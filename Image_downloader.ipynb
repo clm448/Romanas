{
  "nbformat": 4,
  "nbformat_minor": 0,
  "metadata": {
    "colab": {
      "name": "Image_downloader.ipynb",
      "provenance": [],
      "collapsed_sections": [],
      "toc_visible": true,
      "include_colab_link": true
    },
    "kernelspec": {
      "name": "python3",
      "display_name": "Python 3"
    },
    "language_info": {
      "name": "python"
    }
  },
  "cells": [
    {
      "cell_type": "markdown",
      "metadata": {
        "id": "view-in-github",
        "colab_type": "text"
      },
      "source": [
        "<a href=\"https://colab.research.google.com/github/clm448/Romanas/blob/main/Image_downloader.ipynb\" target=\"_parent\"><img src=\"https://colab.research.google.com/assets/colab-badge.svg\" alt=\"Open In Colab\"/></a>"
      ]
    },
    {
      "cell_type": "markdown",
      "metadata": {
        "id": "2mukMezce6C5"
      },
      "source": [
        "# Notebook to download images\n",
        "\n",
        "Images webpage: http://ftp.itacyl.es/cartografia/01_Ortofotografia/2009/ "
      ]
    },
    {
      "cell_type": "code",
      "metadata": {
        "id": "o6r74c6pg6du"
      },
      "source": [
        "# Load the Drive helper and mount\n",
        "from google.colab import drive\n",
        "\n",
        "# This will prompt for authorization.\n",
        "drive.mount('/content/drive')"
      ],
      "execution_count": null,
      "outputs": []
    },
    {
      "cell_type": "code",
      "metadata": {
        "colab": {
          "base_uri": "https://localhost:8080/"
        },
        "id": "WNE8d174hNdq",
        "outputId": "f5ef9576-dcbc-435c-b8a8-9463bb9f842a"
      },
      "source": [
        "# Check if you can see the Romanos y neuronas directory\n",
        "!ls -lt drive/MyDrive/Neuronas\\ y\\ romanos/Colab\\ Notebooks"
      ],
      "execution_count": null,
      "outputs": [
        {
          "output_type": "stream",
          "text": [
            "total 6878\n",
            "-rw------- 1 root root   26775 Apr 24 18:36  Image_downloader.ipynb\n",
            "drwx------ 2 root root    4096 Apr  4 11:04  Shapefile\n",
            "drwx------ 2 root root    4096 Apr  4 10:57  maps\n",
            "-rw------- 1 root root    9192 Apr  4 10:54  Testing_gdal.ipynb\n",
            "-rw------- 1 root root    1840 Feb 10 20:42  CANYrelief1.jpg.aux.xml\n",
            "-rw------- 1 root root  182175 Feb 10 20:42  CANYrelief1.jpg\n",
            "-rw------- 1 root root 6803623 Feb 10 19:23  CANYrelief1-geo.tif\n",
            "-rw------- 1 root root   10155 Feb 10 18:46 'Romanos y neuronas'\n"
          ],
          "name": "stdout"
        }
      ]
    },
    {
      "cell_type": "code",
      "metadata": {
        "colab": {
          "base_uri": "https://localhost:8080/"
        },
        "id": "wL49koLVhVff",
        "outputId": "cc940d2b-f7b2-4576-e141-0d6548d2b9fa"
      },
      "source": [
        "# Move to Neuronas y romanos\n",
        "%cd drive/MyDrive/Neuronas\\ y\\ romanos/Colab\\ Notebooks/"
      ],
      "execution_count": null,
      "outputs": [
        {
          "output_type": "stream",
          "text": [
            "/content/drive/.shortcut-targets-by-id/1Yix9skf3TXRqvLjODkRa8AicR8Xl93NV/Neuronas y romanos/Colab Notebooks\n"
          ],
          "name": "stdout"
        }
      ]
    },
    {
      "cell_type": "code",
      "metadata": {
        "id": "YE_pQ_VAfIkQ"
      },
      "source": [
        "# Library needed to download maps from url\n",
        "import requests\n",
        "\n",
        "import sys, os\n",
        "\n",
        "# Create directory to store images\n",
        "output_folder = \"maps\"\n",
        "os.system(\"mkdir -p {}\".format(output_folder))\n",
        "\n",
        "# Web page with the maps database\n",
        "web_page = \"http://ftp.itacyl.es/cartografia/01_Ortofotografia/2009/\"\n",
        "\n",
        "# Just one random map to see if it works\n",
        "file_name = \"Color/H-0056/PNOA_CYL_NE_2009_25cm_OF_rgb_etrs_hu30_h05_0056_1-7.tif\"\n",
        "\n",
        "response = requests.get(web_page + file_name)\n",
        "\n",
        "file = open(output_folder + \"/sample_image.tif\", \"wb\")\n",
        "\n",
        "file.write(response.content)\n",
        "\n",
        "file.close()"
      ],
      "execution_count": null,
      "outputs": []
    },
    {
      "cell_type": "code",
      "metadata": {
        "colab": {
          "base_uri": "https://localhost:8080/"
        },
        "id": "H7da5X_ggcuF",
        "outputId": "c3ea7d0d-8c30-4032-fd27-c5096732fb1a"
      },
      "source": [
        "# Check if the download actually worked\n",
        "!ls -lrt maps"
      ],
      "execution_count": null,
      "outputs": [
        {
          "output_type": "stream",
          "text": [
            "total 24772\n",
            "-rw------- 1 root root 25366264 Apr 18 16:37 sample_image.tif\n"
          ],
          "name": "stdout"
        }
      ]
    },
    {
      "cell_type": "code",
      "metadata": {
        "colab": {
          "base_uri": "https://localhost:8080/"
        },
        "id": "4wipGUp2mCIw",
        "outputId": "c5cb4447-e06b-444b-d0e8-dec3e5992dd7"
      },
      "source": [
        "# Now, more difficult: using the shapefile\n",
        "# Reference github page: https://github.com/GeospatialPython/pyshp\n",
        "# Reference PyPi page: https://pypi.org/project/pyshp/\n",
        "\n",
        "# First of all, install the PyShp library\n",
        "\n",
        "!pip install pyshp\n"
      ],
      "execution_count": null,
      "outputs": [
        {
          "output_type": "stream",
          "text": [
            "Collecting pyshp\n",
            "\u001b[?25l  Downloading https://files.pythonhosted.org/packages/38/85/fbf87e7aa55103e0d06af756bdbc15cf821fa580414c23142d60a35d4f85/pyshp-2.1.3.tar.gz (219kB)\n",
            "\r\u001b[K     |█▌                              | 10kB 19.5MB/s eta 0:00:01\r\u001b[K     |███                             | 20kB 19.2MB/s eta 0:00:01\r\u001b[K     |████▌                           | 30kB 14.2MB/s eta 0:00:01\r\u001b[K     |██████                          | 40kB 12.4MB/s eta 0:00:01\r\u001b[K     |███████▌                        | 51kB 8.9MB/s eta 0:00:01\r\u001b[K     |█████████                       | 61kB 8.0MB/s eta 0:00:01\r\u001b[K     |██████████▍                     | 71kB 9.0MB/s eta 0:00:01\r\u001b[K     |████████████                    | 81kB 10.0MB/s eta 0:00:01\r\u001b[K     |█████████████▍                  | 92kB 8.3MB/s eta 0:00:01\r\u001b[K     |███████████████                 | 102kB 8.5MB/s eta 0:00:01\r\u001b[K     |████████████████▍               | 112kB 8.5MB/s eta 0:00:01\r\u001b[K     |██████████████████              | 122kB 8.5MB/s eta 0:00:01\r\u001b[K     |███████████████████▍            | 133kB 8.5MB/s eta 0:00:01\r\u001b[K     |████████████████████▉           | 143kB 8.5MB/s eta 0:00:01\r\u001b[K     |██████████████████████▍         | 153kB 8.5MB/s eta 0:00:01\r\u001b[K     |███████████████████████▉        | 163kB 8.5MB/s eta 0:00:01\r\u001b[K     |█████████████████████████▍      | 174kB 8.5MB/s eta 0:00:01\r\u001b[K     |██████████████████████████▉     | 184kB 8.5MB/s eta 0:00:01\r\u001b[K     |████████████████████████████▍   | 194kB 8.5MB/s eta 0:00:01\r\u001b[K     |█████████████████████████████▉  | 204kB 8.5MB/s eta 0:00:01\r\u001b[K     |███████████████████████████████▎| 215kB 8.5MB/s eta 0:00:01\r\u001b[K     |████████████████████████████████| 225kB 8.5MB/s \n",
            "\u001b[?25hBuilding wheels for collected packages: pyshp\n",
            "  Building wheel for pyshp (setup.py) ... \u001b[?25l\u001b[?25hdone\n",
            "  Created wheel for pyshp: filename=pyshp-2.1.3-cp37-none-any.whl size=37264 sha256=2e84d955cdad2c0aa1287c64791c4dc4f8e5fca17a5a3225f782429d5b7f64bc\n",
            "  Stored in directory: /root/.cache/pip/wheels/76/2b/d4/53e6b9a0fb0a9f9f29664cf82605af8bc81d5ab44d987896dd\n",
            "Successfully built pyshp\n",
            "Installing collected packages: pyshp\n",
            "Successfully installed pyshp-2.1.3\n"
          ],
          "name": "stdout"
        }
      ]
    },
    {
      "cell_type": "code",
      "metadata": {
        "id": "n1VA3mbpf0nh",
        "colab": {
          "base_uri": "https://localhost:8080/"
        },
        "outputId": "b62ba77d-d50c-45e6-d7fb-bb93be481a5a"
      },
      "source": [
        "# Library needed to read shapefiles\n",
        "import shapefile\n",
        "\n",
        "# Load shapefile\n",
        "sf = shapefile.Reader(\"Shapefile/E50_area.shp\")\n",
        "\n",
        "# Printing metadata\n",
        "print(sf)   "
      ],
      "execution_count": null,
      "outputs": [
        {
          "output_type": "stream",
          "text": [
            "shapefile Reader\n",
            "    1115 shapes (type 'POLYGON')\n"
          ],
          "name": "stdout"
        }
      ]
    },
    {
      "cell_type": "code",
      "metadata": {
        "colab": {
          "base_uri": "https://localhost:8080/"
        },
        "id": "EIEE_Zv1o3EI",
        "outputId": "803df897-080c-4dc9-8f24-14abe48d4b75"
      },
      "source": [
        "# Reading geometry\n",
        "shapes = sf.shapes()\n",
        "\n",
        "# Print number of shapes\n",
        "print(len(shapes))"
      ],
      "execution_count": null,
      "outputs": [
        {
          "output_type": "stream",
          "text": [
            "1115\n"
          ],
          "name": "stdout"
        }
      ]
    },
    {
      "cell_type": "code",
      "metadata": {
        "colab": {
          "base_uri": "https://localhost:8080/"
        },
        "id": "tGUaQNdlpuvK",
        "outputId": "b1bc3294-2a97-418f-9afb-c64c8b70e611"
      },
      "source": [
        "# Selecting 8th entry\n",
        "s = sf.shape(7)\n",
        "\n",
        "# Print coordinates of the 8th entry's bounding box\n",
        "print(['%.3f' % coord for coord in s.bbox])"
      ],
      "execution_count": null,
      "outputs": [
        {
          "output_type": "stream",
          "text": [
            "['-5.187', '43.333', '-4.854', '43.500']\n"
          ],
          "name": "stdout"
        }
      ]
    },
    {
      "cell_type": "code",
      "metadata": {
        "id": "aBxpCGOspy9j"
      },
      "source": [
        "# The coordinates meaning should be:\n",
        "# [west_bound, south_bound, east_bound, north_bound]"
      ],
      "execution_count": null,
      "outputs": []
    },
    {
      "cell_type": "code",
      "metadata": {
        "id": "XsQjdf4Lpy4T"
      },
      "source": [
        "# Plot all the points in a 2D map\n",
        "import numpy as np\n",
        "import pandas as pd\n",
        "import matplotlib as mpl\n",
        "import matplotlib.pyplot as plt\n",
        "\n",
        "lat_list = []\n",
        "long_list = []\n",
        "for i in range(len(shapes)):\n",
        "  s = sf.shape(i)\n",
        "  long_list.append(0.5*(s.bbox[0] + s.bbox[2]))\n",
        "  lat_list.append(0.5*(s.bbox[1] + s.bbox[3]))\n",
        "lat_array = np.array(lat_list)\n",
        "long_array = np.array(long_list)\n"
      ],
      "execution_count": null,
      "outputs": []
    },
    {
      "cell_type": "code",
      "metadata": {
        "id": "yebKkKklpyyB",
        "colab": {
          "base_uri": "https://localhost:8080/",
          "height": 282
        },
        "outputId": "f302e002-f404-4db7-8afd-b764e183422f"
      },
      "source": [
        "# Actual plotting\n",
        "fig, ax = plt.subplots()\n",
        "\n",
        "ax.scatter(x = long_array, \n",
        "        y = lat_array, \n",
        "        s = 5)"
      ],
      "execution_count": null,
      "outputs": [
        {
          "output_type": "execute_result",
          "data": {
            "text/plain": [
              "<matplotlib.collections.PathCollection at 0x7fc989137790>"
            ]
          },
          "metadata": {
            "tags": []
          },
          "execution_count": 30
        },
        {
          "output_type": "display_data",
          "data": {
            "image/png": "[encoded data removed]",
            "text/plain": [
              "<Figure size 432x288 with 1 Axes>"
            ]
          },
          "metadata": {
            "tags": [],
            "needs_background": "light"
          }
        }
      ]
    },
    {
      "cell_type": "code",
      "metadata": {
        "id": "VzaOCuhypyrW"
      },
      "source": [
        "# Given a pair of coordinate (lat, long), show where the point is\n",
        "\n",
        "# Prepare reference latitudes and longitudes\n",
        "lat_south_list = []\n",
        "lat_north_list = []\n",
        "long_east_list = []\n",
        "long_west_list = []\n",
        "for i in range(len(shapes)):\n",
        "  s = sf.shape(i)\n",
        "  long_west_list.append(s.bbox[0])\n",
        "  lat_south_list.append(s.bbox[1])\n",
        "  long_east_list.append(s.bbox[2])\n",
        "  lat_north_list.append(s.bbox[3])\n",
        "lat_south_array = np.array(lat_south_list)\n",
        "lat_north_array = np.array(lat_north_list)\n",
        "long_east_array = np.array(long_east_list)\n",
        "long_west_array = np.array(long_west_list)\n"
      ],
      "execution_count": null,
      "outputs": []
    },
    {
      "cell_type": "code",
      "metadata": {
        "colab": {
          "base_uri": "https://localhost:8080/",
          "height": 206
        },
        "id": "pNv5pYvh_wKM",
        "outputId": "dcec9984-b959-4181-8e1c-a81dfd10218d"
      },
      "source": [
        "# Put everything into a dataframe (not sure if this is useful)\n",
        "\n",
        "#df = pd.DataFrame(np.concatenate([arr1, arr2, arr3], axis=1), columns= ['a','b','c'])\n",
        "df_coordinates = pd.DataFrame()\n",
        "\n",
        "df_coordinates['lat_south_array']= lat_south_array\n",
        "df_coordinates['lat_north_array']= lat_north_array\n",
        "df_coordinates['long_east_array']= long_east_array\n",
        "df_coordinates['long_west_array']= long_west_array\n",
        "\n",
        "df_coordinates.head()"
      ],
      "execution_count": null,
      "outputs": [
        {
          "output_type": "execute_result",
          "data": {
            "text/html": [
              "<div>\n",
              "<style scoped>\n",
              "    .dataframe tbody tr th:only-of-type {\n",
              "        vertical-align: middle;\n",
              "    }\n",
              "\n",
              "    .dataframe tbody tr th {\n",
              "        vertical-align: top;\n",
              "    }\n",
              "\n",
              "    .dataframe thead th {\n",
              "        text-align: right;\n",
              "    }\n",
              "</style>\n",
              "<table border=\"1\" class=\"dataframe\">\n",
              "  <thead>\n",
              "    <tr style=\"text-align: right;\">\n",
              "      <th></th>\n",
              "      <th>lat_south_array</th>\n",
              "      <th>lat_north_array</th>\n",
              "      <th>long_east_array</th>\n",
              "      <th>long_west_array</th>\n",
              "    </tr>\n",
              "  </thead>\n",
              "  <tbody>\n",
              "    <tr>\n",
              "      <th>0</th>\n",
              "      <td>43.333333</td>\n",
              "      <td>43.5</td>\n",
              "      <td>-7.187500</td>\n",
              "      <td>-7.520833</td>\n",
              "    </tr>\n",
              "    <tr>\n",
              "      <th>1</th>\n",
              "      <td>43.333333</td>\n",
              "      <td>43.5</td>\n",
              "      <td>-6.854167</td>\n",
              "      <td>-7.187500</td>\n",
              "    </tr>\n",
              "    <tr>\n",
              "      <th>2</th>\n",
              "      <td>43.333333</td>\n",
              "      <td>43.5</td>\n",
              "      <td>-6.520833</td>\n",
              "      <td>-6.854167</td>\n",
              "    </tr>\n",
              "    <tr>\n",
              "      <th>3</th>\n",
              "      <td>43.333333</td>\n",
              "      <td>43.5</td>\n",
              "      <td>-6.187500</td>\n",
              "      <td>-6.520833</td>\n",
              "    </tr>\n",
              "    <tr>\n",
              "      <th>4</th>\n",
              "      <td>43.333333</td>\n",
              "      <td>43.5</td>\n",
              "      <td>-5.854167</td>\n",
              "      <td>-6.187500</td>\n",
              "    </tr>\n",
              "  </tbody>\n",
              "</table>\n",
              "</div>"
            ],
            "text/plain": [
              "   lat_south_array  lat_north_array  long_east_array  long_west_array\n",
              "0        43.333333             43.5        -7.187500        -7.520833\n",
              "1        43.333333             43.5        -6.854167        -7.187500\n",
              "2        43.333333             43.5        -6.520833        -6.854167\n",
              "3        43.333333             43.5        -6.187500        -6.520833\n",
              "4        43.333333             43.5        -5.854167        -6.187500"
            ]
          },
          "metadata": {
            "tags": []
          },
          "execution_count": 44
        }
      ]
    },
    {
      "cell_type": "code",
      "metadata": {
        "id": "bKfcHsNZ-4Hs"
      },
      "source": [
        "# Function that returns the df entry corresponding to a pair of coordinates (lat, long)\n",
        "def find_point(lat, \n",
        "               long, \n",
        "               df_ref = df_coordinates):\n",
        "  \n",
        "  \"\"\"Given lat and long, returns the shapefile entry.\"\"\"\n",
        "\n",
        "  cont = 0\n",
        "  for index, row in df_ref.iterrows():\n",
        "    cont = cont+1\n",
        "    if (lat >= row['lat_south_array'] and\n",
        "        lat < row['lat_north_array'] and \n",
        "        long >= row['long_west_array'] and \n",
        "        long < row['long_east_array']):\n",
        "      #print(row['lat_south_array'], row['lat_north_array'], row['long_west_array'], row['long_east_array'])\n",
        "      break\n",
        "  return cont-1\n",
        "  "
      ],
      "execution_count": null,
      "outputs": []
    },
    {
      "cell_type": "code",
      "metadata": {
        "id": "6rXhaCsQpyic",
        "colab": {
          "base_uri": "https://localhost:8080/"
        },
        "outputId": "03dd8158-5565-42b1-c2b7-6c3f4c5fef1c"
      },
      "source": [
        "# Test the function\n",
        "my_lat = 42\n",
        "my_long = -3\n",
        "\n",
        "cell = find_point(my_lat, my_long, df_coordinates)\n",
        "print(\"This coordinates can be found in cell number {}\".format(cell))\n",
        "print()\n",
        "print(\"Here the coordinates of cell {}:\".format(cell))\n",
        "print(df_coordinates.iloc[cell])"
      ],
      "execution_count": null,
      "outputs": [
        {
          "output_type": "stream",
          "text": [
            "This coordinates can be found in cell number 313\n",
            "\n",
            "Here the coordinates of cell 313:\n",
            "lat_south_array    41.833333\n",
            "lat_north_array    42.000000\n",
            "long_east_array    -2.854167\n",
            "long_west_array    -3.187500\n",
            "Name: 313, dtype: float64\n"
          ],
          "name": "stdout"
        }
      ]
    },
    {
      "cell_type": "code",
      "metadata": {
        "id": "k6qGMaVFLvuD"
      },
      "source": [
        ""
      ],
      "execution_count": null,
      "outputs": []
    }
  ]
}