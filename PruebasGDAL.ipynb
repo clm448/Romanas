{
  "nbformat": 4,
  "nbformat_minor": 0,
  "metadata": {
    "colab": {
      "name": "Untitled0.ipynb",
      "provenance": [],
      "authorship_tag": "ABX9TyOz5vq52s1/oR2rTfXj+0le",
      "include_colab_link": true
    },
    "kernelspec": {
      "display_name": "Python 3",
      "name": "python3"
    },
    "language_info": {
      "name": "python"
    }
  },
  "cells": [
    {
      "cell_type": "markdown",
      "metadata": {
        "id": "view-in-github",
        "colab_type": "text"
      },
      "source": [
        "<a href=\"https://colab.research.google.com/github/clm448/Romanas/blob/main/PruebasGDAL.ipynb\" target=\"_parent\"><img src=\"https://colab.research.google.com/assets/colab-badge.svg\" alt=\"Open In Colab\"/></a>"
      ]
    },
    {
      "cell_type": "code",
      "metadata": {
        "colab": {
          "base_uri": "https://localhost:8080/"
        },
        "id": "-ylVR5mTFrY8",
        "outputId": "49f886b4-fc08-4279-d9fc-e6210060e046"
      },
      "source": [
        "# Load the Drive helper and mount\n",
        "from google.colab import drive\n",
        "drive.mount('/content/drive', force_remount=True)\n",
        "%cd drive/MyDrive/Neuronas\\ y\\ romanos/Colab\\ Notebooks/Romanas/"
      ],
      "execution_count": null,
      "outputs": [
        {
          "name": "stdout",
          "output_type": "stream",
          "text": [
            "Mounted at /content/drive\n",
            "/content/drive/.shortcut-targets-by-id/1Yix9skf3TXRqvLjODkRa8AicR8Xl93NV/Neuronas y romanos/Colab Notebooks\n"
          ]
        }
      ]
    },
    {
      "cell_type": "code",
      "metadata": {
        "id": "kDMc778bH8MP"
      },
      "source": [
        "import gdal"
      ],
      "execution_count": null,
      "outputs": []
    },
    {
      "cell_type": "code",
      "metadata": {
        "id": "iLb6Li0FJMoG"
      },
      "source": [
        "# Nombre de las imagenes que se van a usar para hacer pruebas\n",
        "# PNOA_CYL_NE_2009_25cm_OF_rgb_etrs_hu30_h05_0056_1-7.tif\n",
        "# PNOA_CYL_SW_2009_50cm_OF_rgb_etrs89_hu30_H10_0600_2-1.ECW"
      ],
      "execution_count": null,
      "outputs": []
    },
    {
      "cell_type": "code",
      "metadata": {
        "colab": {
          "base_uri": "https://localhost:8080/"
        },
        "id": "VJzgdF7ZIAL6",
        "outputId": "2bad0a5d-04eb-405b-9c0a-1cd48e638d69"
      },
      "source": [
        "!gdalinfo CANYrelief1-geo.tif -mm"
      ],
      "execution_count": null,
      "outputs": [
        {
          "name": "stdout",
          "output_type": "stream",
          "text": [
            "GDAL 2.2.3, released 2017/11/20\n"
          ]
        }
      ]
    },
    {
      "cell_type": "code",
      "metadata": {
        "colab": {
          "base_uri": "https://localhost:8080/"
        },
        "id": "EzkYqDzOIrsx",
        "outputId": "7ccb1d42-1e67-436c-a007-dfa58654fbc7"
      },
      "source": [
        "!git status"
      ],
      "execution_count": 16,
      "outputs": [
        {
          "output_type": "stream",
          "name": "stdout",
          "text": [
            "On branch main\n",
            "Your branch is up to date with 'origin/main'.\n",
            "\n",
            "Changes to be committed:\n",
            "  (use \"git reset HEAD <file>...\" to unstage)\n",
            "\n",
            "\t\u001b[32mnew file:   PNOA_CYL_NE_2009_25cm_OF_rgb_etrs_hu30_h05_0056_1-7.tif\u001b[m\n",
            "\t\u001b[32mnew file:   PNOA_CYL_SW_2009_50cm_OF_rgb_etrs89_hu30_H10_0600_2-1.ECW\u001b[m\n",
            "\n"
          ]
        }
      ]
    }
  ]
}