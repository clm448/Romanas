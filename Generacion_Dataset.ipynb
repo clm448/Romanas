{
  "nbformat": 4,
  "nbformat_minor": 0,
  "metadata": {
    "colab": {
      "name": "Generacion_Dataset.ipynb",
      "provenance": [],
      "collapsed_sections": []
    },
    "kernelspec": {
      "name": "python3",
      "display_name": "Python 3"
    },
    "language_info": {
      "name": "python"
    }
  },
  "cells": [
    {
      "cell_type": "code",
      "metadata": {
        "id": "bCoU6yDdqmxI",
        "colab": {
          "base_uri": "https://localhost:8080/"
        },
        "outputId": "824c4f53-d816-487f-d624-91b0ce92902e"
      },
      "source": [
        "# Load the Drive helper and mount\n",
        "from google.colab import drive\n",
        "\n",
        "# This will prompt for authorization.\n",
        "drive.mount('/content/drive')"
      ],
      "execution_count": 1,
      "outputs": [
        {
          "output_type": "stream",
          "name": "stdout",
          "text": [
            "Mounted at /content/drive\n"
          ]
        }
      ]
    },
    {
      "cell_type": "code",
      "source": [
        "from image_processing import *"
      ],
      "metadata": {
        "id": "gwo_Z3aV-Lf_"
      },
      "execution_count": 1,
      "outputs": []
    },
    {
      "cell_type": "code",
      "source": [
        "camps_path = '/content/drive/MyDrive/Neuronas y romanos/Shape/centroide_camps.csv'\n",
        "source_images_path = '/content/drive/MyDrive/Neuronas y romanos/Colab Notebooks/Campamentos_img'\n",
        "target_path  = '/content/drive/MyDrive/Neuronas y romanos/Colab Notebooks/Campamentos_img_1000x1000'"
      ],
      "metadata": {
        "id": "5KR78XRN13VA"
      },
      "execution_count": 1,
      "outputs": []
    },
    {
      "cell_type": "code",
      "source": [
        "import os\n",
        "for obj_path in os.listdir(source_images_path):\n",
        "  image_path = source_images_path + '/' + obj_path\n",
        "  generate_dataset(image_path, camps_path, target_path)"
      ],
      "metadata": {
        "id": "mwWUovYR15t-"
      },
      "execution_count": null,
      "outputs": []
    },
    {
      "cell_type": "code",
      "source": [
        "%cd /content/drive/MyDrive/Neuronas y romanos/Colab Notebooks/Campamentos_img_1000x1000"
      ],
      "metadata": {
        "colab": {
          "base_uri": "https://localhost:8080/"
        },
        "id": "0ZI-XJvknI6p",
        "outputId": "2ff218c5-d966-4da1-c1a3-2cc6911a00d2"
      },
      "execution_count": 2,
      "outputs": [
        {
          "output_type": "stream",
          "name": "stdout",
          "text": [
            "/content/drive/.shortcut-targets-by-id/1Yix9skf3TXRqvLjODkRa8AicR8Xl93NV/Neuronas y romanos/Colab Notebooks/Campamentos_img_1000x1000\n"
          ]
        }
      ]
    },
    {
      "cell_type": "code",
      "source": [
        "import json\n",
        "import numpy as np"
      ],
      "metadata": {
        "id": "iEzSAF2H7IvI"
      },
      "execution_count": 4,
      "outputs": []
    },
    {
      "cell_type": "code",
      "source": [
        "json_dict_file = 'metadata_global.json'"
      ],
      "metadata": {
        "id": "CgE0_B37O6-K"
      },
      "execution_count": null,
      "outputs": []
    },
    {
      "cell_type": "code",
      "source": [
        "data_formatting(json_dict_file, target_path, dataset_division=[70, 20, 10])"
      ],
      "metadata": {
        "id": "HIMfO3EUO6Ex"
      },
      "execution_count": null,
      "outputs": []
    }
  ]
}