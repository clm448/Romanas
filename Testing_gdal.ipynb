{
  "nbformat": 4,
  "nbformat_minor": 0,
  "metadata": {
    "colab": {
      "name": "Testing_gdal.ipynb",
      "provenance": [],
      "collapsed_sections": [],
      "include_colab_link": true
    },
    "kernelspec": {
      "name": "python3",
      "display_name": "Python 3"
    }
  },
  "cells": [
    {
      "cell_type": "markdown",
      "metadata": {
        "id": "view-in-github",
        "colab_type": "text"
      },
      "source": [
        "<a href=\"https://colab.research.google.com/github/clm448/Romanas/blob/main/Testing_gdal.ipynb\" target=\"_parent\"><img src=\"https://colab.research.google.com/assets/colab-badge.svg\" alt=\"Open In Colab\"/></a>"
      ]
    },
    {
      "cell_type": "markdown",
      "metadata": {
        "id": "b0tT-8RuQ-50"
      },
      "source": [
        "# Notebook to install and test gdal library\n",
        "\n",
        "I am try following this _gentle_ introduction to gdal: \n",
        "\n",
        "https://medium.com/planet-stories/a-gentle-introduction-to-gdal-part-1-a3253eb96082"
      ]
    },
    {
      "cell_type": "markdown",
      "metadata": {
        "id": "XEXME91rRHS3"
      },
      "source": [
        "First step: install gdal using pip\n"
      ]
    },
    {
      "cell_type": "code",
      "metadata": {
        "colab": {
          "base_uri": "https://localhost:8080/"
        },
        "id": "t1ObpbZgRNFm",
        "outputId": "f75c6b31-43c3-45b3-f1dd-f8bdc5f03808"
      },
      "source": [
        "pip install gdal"
      ],
      "execution_count": null,
      "outputs": [
        {
          "output_type": "stream",
          "text": [
            "Requirement already satisfied: gdal in /usr/lib/python3/dist-packages (2.2.2)\n"
          ],
          "name": "stdout"
        }
      ]
    },
    {
      "cell_type": "markdown",
      "metadata": {
        "id": "MpO901RQROW7"
      },
      "source": [
        "Check if it has been correctly installed and what version we currently have:"
      ]
    },
    {
      "cell_type": "code",
      "metadata": {
        "colab": {
          "base_uri": "https://localhost:8080/"
        },
        "id": "Tfrl16rJRomE",
        "outputId": "9a052421-f569-49e7-b7df-0fe86d6aa0b4"
      },
      "source": [
        "!gdalinfo --version"
      ],
      "execution_count": null,
      "outputs": [
        {
          "output_type": "stream",
          "text": [
            "GDAL 2.2.3, released 2017/11/20\n"
          ],
          "name": "stdout"
        }
      ]
    },
    {
      "cell_type": "markdown",
      "metadata": {
        "id": "t8r9HYm9Ro5k"
      },
      "source": [
        "## Working with an image we already have\n",
        "\n",
        "The tutorial starts by operating on a map we downloaded from a repository. The map is called _CANYrelief1-geo.tif_\n",
        "\n",
        "Maybe this is not what we really want to do, but let's give it a try."
      ]
    },
    {
      "cell_type": "code",
      "metadata": {
        "colab": {
          "base_uri": "https://localhost:8080/"
        },
        "id": "sPBr4x6mePFr",
        "outputId": "dd787fcd-dcd2-4868-c113-c2e3f36304e1"
      },
      "source": [
        "# Load the Drive helper and mount\n",
        "from google.colab import drive\n",
        "\n",
        "# This will prompt for authorization.\n",
        "drive.mount('/content/drive')"
      ],
      "execution_count": null,
      "outputs": [
        {
          "output_type": "stream",
          "text": [
            "Mounted at /content/drive\n"
          ],
          "name": "stdout"
        }
      ]
    },
    {
      "cell_type": "markdown",
      "metadata": {
        "id": "9L2tBSBRe8_d"
      },
      "source": [
        "To get access to _Neuronas y romanos_ directory, if it is shared with you, but you are not the original owner, you have to create a link to it from your Drive home page. Once you do so, you should be able to see the content of the folder directory:"
      ]
    },
    {
      "cell_type": "code",
      "metadata": {
        "colab": {
          "base_uri": "https://localhost:8080/"
        },
        "id": "H0myoig1eZLG",
        "outputId": "cb21d74a-6557-48cd-c8bc-ef6b3a9a9341"
      },
      "source": [
        "!ls -lt drive/MyDrive/Neuronas\\ y\\ romanos/Colab\\ Notebooks"
      ],
      "execution_count": null,
      "outputs": [
        {
          "output_type": "stream",
          "text": [
            "total 6847\n",
            "-rw------- 1 root root    3161 Apr  4 10:53  Image_downloader.ipynb\n",
            "-rw------- 1 root root    8424 Apr  4 10:53  Testing_gdal.ipynb\n",
            "-rw------- 1 root root    1840 Feb 10 20:42  CANYrelief1.jpg.aux.xml\n",
            "-rw------- 1 root root  182175 Feb 10 20:42  CANYrelief1.jpg\n",
            "-rw------- 1 root root 6803623 Feb 10 19:23  CANYrelief1-geo.tif\n",
            "-rw------- 1 root root   10155 Feb 10 18:46 'Romanos y neuronas'\n"
          ],
          "name": "stdout"
        }
      ]
    },
    {
      "cell_type": "markdown",
      "metadata": {
        "id": "SuRdEmf2rN8N"
      },
      "source": [
        "Let's move to the _Neuronas y romanos_ directory:"
      ]
    },
    {
      "cell_type": "code",
      "metadata": {
        "colab": {
          "base_uri": "https://localhost:8080/"
        },
        "id": "04dh3oSdrY6b",
        "outputId": "6041c2b1-67dc-4924-b7b6-177c69da3867"
      },
      "source": [
        "%cd drive/MyDrive/Neuronas\\ y\\ romanos/Colab\\ Notebooks/"
      ],
      "execution_count": null,
      "outputs": [
        {
          "output_type": "stream",
          "text": [
            "[Errno 2] No such file or directory: 'drive/MyDrive/Neuronas y romanos/Colab Notebooks/'\n",
            "/content/drive/.shortcut-targets-by-id/620/Neuronas y romanos/Colab Notebooks\n"
          ],
          "name": "stdout"
        }
      ]
    },
    {
      "cell_type": "markdown",
      "metadata": {
        "id": "2fI35QOofVhh"
      },
      "source": [
        "Now, get informations about the image we downloaded:"
      ]
    },
    {
      "cell_type": "code",
      "metadata": {
        "colab": {
          "base_uri": "https://localhost:8080/"
        },
        "id": "U8_covCPfhAU",
        "outputId": "b79f9fed-6210-49fe-e1e9-09e0e320b731"
      },
      "source": [
        "!gdalinfo CANYrelief1-geo.tif -mm"
      ],
      "execution_count": null,
      "outputs": [
        {
          "output_type": "stream",
          "text": [
            "Driver: GTiff/GeoTIFF\n",
            "Files: CANYrelief1-geo.tif\n",
            "Size is 2800, 2800\n",
            "Coordinate System is:\n",
            "PROJCS[\"WGS 84 / Pseudo-Mercator\",\n",
            "    GEOGCS[\"WGS 84\",\n",
            "        DATUM[\"WGS_1984\",\n",
            "            SPHEROID[\"WGS 84\",6378137,298.257223563,\n",
            "                AUTHORITY[\"EPSG\",\"7030\"]],\n",
            "            AUTHORITY[\"EPSG\",\"6326\"]],\n",
            "        PRIMEM[\"Greenwich\",0,\n",
            "            AUTHORITY[\"EPSG\",\"8901\"]],\n",
            "        UNIT[\"degree\",0.0174532925199433,\n",
            "            AUTHORITY[\"EPSG\",\"9122\"]],\n",
            "        AUTHORITY[\"EPSG\",\"4326\"]],\n",
            "    PROJECTION[\"Mercator_1SP\"],\n",
            "    PARAMETER[\"central_meridian\",0],\n",
            "    PARAMETER[\"scale_factor\",1],\n",
            "    PARAMETER[\"false_easting\",0],\n",
            "    PARAMETER[\"false_northing\",0],\n",
            "    UNIT[\"metre\",1,\n",
            "        AUTHORITY[\"EPSG\",\"9001\"]],\n",
            "    AXIS[\"X\",EAST],\n",
            "    AXIS[\"Y\",NORTH],\n",
            "    EXTENSION[\"PROJ4\",\"+proj=merc +a=6378137 +b=6378137 +lat_ts=0.0 +lon_0=0.0 +x_0=0.0 +y_0=0 +k=1.0 +units=m +nadgrids=@null +wktext +no_defs\"],\n",
            "    AUTHORITY[\"EPSG\",\"3857\"]]\n",
            "Origin = (-12249462.599999999627471,4629559.794860946945846)\n",
            "Pixel Size = (13.284000000000001,-13.285397060378999)\n",
            "Metadata:\n",
            "  AREA_OR_POINT=Area\n",
            "  TIFFTAG_DATETIME=2017:04:01 20:24:57\n",
            "  TIFFTAG_RESOLUTIONUNIT=2 (pixels/inch)\n",
            "  TIFFTAG_SOFTWARE=Adobe Photoshop CC (Macintosh)\n",
            "  TIFFTAG_XRESOLUTION=72\n",
            "  TIFFTAG_YRESOLUTION=72\n",
            "Image Structure Metadata:\n",
            "  COMPRESSION=LZW\n",
            "  INTERLEAVE=PIXEL\n",
            "Corner Coordinates:\n",
            "Upper Left  (-12249462.600, 4629559.795) (110d 2'19.66\"W, 38d21'14.51\"N)\n",
            "Lower Left  (-12249462.600, 4592360.683) (110d 2'19.66\"W, 38d 5'29.42\"N)\n",
            "Upper Right (-12212267.400, 4629559.795) (109d42'16.79\"W, 38d21'14.51\"N)\n",
            "Lower Right (-12212267.400, 4592360.683) (109d42'16.79\"W, 38d 5'29.42\"N)\n",
            "Center      (-12230865.000, 4610960.239) (109d52'18.23\"W, 38d13'22.39\"N)\n",
            "Band 1 Block=2800x31 Type=Byte, ColorInterp=Red\n",
            "    Computed Min/Max=149.000,255.000\n",
            "Band 2 Block=2800x31 Type=Byte, ColorInterp=Green\n",
            "    Computed Min/Max=133.000,255.000\n",
            "Band 3 Block=2800x31 Type=Byte, ColorInterp=Blue\n",
            "    Computed Min/Max=100.000,255.000\n"
          ],
          "name": "stdout"
        }
      ]
    },
    {
      "cell_type": "markdown",
      "metadata": {
        "id": "UZF4GdMZfj-s"
      },
      "source": [
        "Ok, we managed to get information from the image. The details are in the link to the tutorial.\n",
        "\n",
        "Now we can try and manipulte the map, resizing from 2800 to 1400 pixels:\n"
      ]
    },
    {
      "cell_type": "code",
      "metadata": {
        "id": "wyW-J2dLgknF",
        "colab": {
          "base_uri": "https://localhost:8080/"
        },
        "outputId": "e05f7cb0-bdad-4c52-e8df-aebee39469c2"
      },
      "source": [
        "!gdal_translate -of JPEG -co QUALITY=70 -co PROGRESSIVE=ON -outsize 1400 0 -r bilinear CANYrelief1-geo.tif CANYrelief1.jpg"
      ],
      "execution_count": null,
      "outputs": [
        {
          "output_type": "stream",
          "text": [
            "Input file size is 2800, 2800\n",
            "0...10...20...30...40...50...60...70...80...90...100 - done.\n"
          ],
          "name": "stdout"
        }
      ]
    },
    {
      "cell_type": "markdown",
      "metadata": {
        "id": "zmUXtzP9rJRk"
      },
      "source": [
        "To split an image into several images, look at this:\n",
        "\n",
        "https://howtoinqgis.wordpress.com/2016/12/17/how-to-split-a-raster-in-several-tiles-using-qgis-or-python-gdal/"
      ]
    },
    {
      "cell_type": "code",
      "metadata": {
        "id": "cOHiHQNUME0A"
      },
      "source": [
        ""
      ],
      "execution_count": null,
      "outputs": []
    }
  ]
}