{
  "nbformat": 4,
  "nbformat_minor": 0,
  "metadata": {
    "colab": {
      "name": "Run_order.ipynb",
      "provenance": [],
      "collapsed_sections": []
    },
    "kernelspec": {
      "name": "python3",
      "display_name": "Python 3"
    },
    "language_info": {
      "name": "python"
    }
  },
  "cells": [
    {
      "cell_type": "markdown",
      "source": [
        "# Conect to Google Drive to access the needed data and use it as a storage solution"
      ],
      "metadata": {
        "id": "KiL66-HA4Wv0"
      }
    },
    {
      "cell_type": "code",
      "metadata": {
        "id": "bCoU6yDdqmxI",
        "colab": {
          "base_uri": "https://localhost:8080/"
        },
        "outputId": "f5a2edc4-4ee3-4bbb-af0c-efd185fcc73e"
      },
      "source": [
        "# Load the Drive helper and mount\n",
        "from google.colab import drive\n",
        "\n",
        "# This will prompt for authorization.\n",
        "drive.mount('/content/drive')"
      ],
      "execution_count": null,
      "outputs": [
        {
          "output_type": "stream",
          "name": "stdout",
          "text": [
            "Mounted at /content/drive\n"
          ]
        }
      ]
    },
    {
      "cell_type": "markdown",
      "source": [
        "# Imports"
      ],
      "metadata": {
        "id": "nk6n9ryy2WuR"
      }
    },
    {
      "cell_type": "code",
      "source": [
        "from image_processing import *\n",
        "from conv_network import *\n",
        "import os\n",
        "import json\n",
        "import numpy as np"
      ],
      "metadata": {
        "id": "gwo_Z3aV-Lf_"
      },
      "execution_count": null,
      "outputs": []
    },
    {
      "cell_type": "markdown",
      "source": [
        "# Define the working environment"
      ],
      "metadata": {
        "id": "bx_bvuQF2nZW"
      }
    },
    {
      "cell_type": "code",
      "source": [
        "camps_path = '/content/drive/MyDrive/Neuronas y romanos/Shape/centroide_camps.csv'\n",
        "source_images_path = '/content/drive/MyDrive/Neuronas y romanos/Colab Notebooks/Campamentos_img'\n",
        "target_path = '/content/drive/MyDrive/Neuronas y romanos/Colab Notebooks/Campamentos_img_1000x1000'"
      ],
      "metadata": {
        "id": "5KR78XRN13VA"
      },
      "execution_count": null,
      "outputs": []
    },
    {
      "cell_type": "code",
      "source": [
        "# %cd %target_path\n",
        "# %cd /content/drive/MyDrive/Neuronas y romanos/Colab Notebooks/Campamentos_img_1000x1000"
      ],
      "metadata": {
        "id": "QWS_XZFF2_0e"
      },
      "execution_count": null,
      "outputs": []
    },
    {
      "cell_type": "markdown",
      "source": [
        "# Create the dataset from the downloaded images"
      ],
      "metadata": {
        "id": "_Ud-S1cK20Z8"
      }
    },
    {
      "cell_type": "code",
      "source": [
        "for obj_path in os.listdir(source_images_path):\n",
        "  image_path = source_images_path + '/' + obj_path\n",
        "  json_dict_file = generate_dataset(image_path, camps_path, target_path)"
      ],
      "metadata": {
        "id": "mwWUovYR15t-"
      },
      "execution_count": null,
      "outputs": []
    },
    {
      "cell_type": "markdown",
      "source": [
        "# Get te directories to the images"
      ],
      "metadata": {
        "id": "5OTYEXVb4KOH"
      }
    },
    {
      "cell_type": "code",
      "source": [
        "train_dir, test_dir, val_dir = data_formatting(json_dict_file, target_path, dataset_division=[70, 20, 10])"
      ],
      "metadata": {
        "id": "HIMfO3EUO6Ex"
      },
      "execution_count": null,
      "outputs": []
    },
    {
      "cell_type": "markdown",
      "source": [
        "# Create, Compile and train the model"
      ],
      "metadata": {
        "id": "OKwmVe7KFYUG"
      }
    },
    {
      "cell_type": "code",
      "source": [
        "model, test_acc, test_loss = data_preprocessing(train_dir, test_dir, val_dir, rgb=False, size=(1024,1024))"
      ],
      "metadata": {
        "id": "2FUETbY9EzzL"
      },
      "execution_count": null,
      "outputs": []
    },
    {
      "cell_type": "code",
      "source": [
        "# Save the current weights and model \n",
        "model.save(str(target_path + '/trained_model.h5')"
      ],
      "metadata": {
        "id": "XrRqu9efSEFQ"
      },
      "execution_count": null,
      "outputs": []
    }
  ]
}