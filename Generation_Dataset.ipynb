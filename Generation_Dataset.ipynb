{
  "nbformat": 4,
  "nbformat_minor": 0,
  "metadata": {
    "colab": {
      "name": "Generacion_Dataset.ipynb",
      "provenance": [],
      "collapsed_sections": []
    },
    "kernelspec": {
      "name": "python3",
      "display_name": "Python 3"
    },
    "language_info": {
      "name": "python"
    }
  },
  "cells": [
    {
      "cell_type": "code",
      "metadata": {
        "id": "bCoU6yDdqmxI",
        "colab": {
          "base_uri": "https://localhost:8080/"
        },
        "outputId": "15f0165a-6d4d-4d84-dfdd-820d7f764410"
      },
      "source": [
        "# Load the Drive helper and mount\n",
        "from google.colab import drive\n",
        "\n",
        "# This will prompt for authorization.\n",
        "drive.mount('/content/drive')"
      ],
      "execution_count": null,
      "outputs": [
        {
          "output_type": "stream",
          "name": "stdout",
          "text": [
            "Mounted at /content/drive\n"
          ]
        }
      ]
    },
    {
      "cell_type": "code",
      "source": [
        "from image_processing import *"
      ],
      "metadata": {
        "id": "gwo_Z3aV-Lf_"
      },
      "execution_count": 4,
      "outputs": []
    },
    {
      "cell_type": "code",
      "source": [
        "camps_path = '/content/drive/MyDrive/Neuronas y romanos/Shape/centroide_camps.csv'\n",
        "dataset_path = '/content/drive/MyDrive/Neuronas y romanos/Colab Notebooks/Campamentos_img'\n",
        "target_path  = '/content/drive/MyDrive/Neuronas y romanos/Colab Notebooks/Campamentos_img_1000x1000'"
      ],
      "metadata": {
        "id": "5KR78XRN13VA"
      },
      "execution_count": 5,
      "outputs": []
    },
    {
      "cell_type": "code",
      "source": [
        "import os\n",
        "for obj_path in os.listdir(dataset_path):\n",
        "  image_path = dataset_path + '/' + obj_path\n",
        "  generate_dataset(image_path, camps_path, target_path)"
      ],
      "metadata": {
        "colab": {
          "base_uri": "https://localhost:8080/"
        },
        "id": "mwWUovYR15t-",
        "outputId": "16cd8262-2289-4d8a-f363-494ce5681784"
      },
      "execution_count": 6,
      "outputs": [
        {
          "output_type": "stream",
          "name": "stdout",
          "text": [
            "No camps in the image\n",
            "No camps in the image\n",
            "No camps in the image\n",
            "No camps in the image\n",
            "No camps in the image\n",
            "No camps in the image\n",
            "No camps in the image\n",
            "No camps in the image\n",
            "No camps in the image\n"
          ]
        }
      ]
    },
    {
      "cell_type": "code",
      "source": [
        "import shutil, os\n",
        "shutil.copy('metadata_global.json', target_path)"
      ],
      "metadata": {
        "id": "Tmpvc63E0_oc",
        "colab": {
          "base_uri": "https://localhost:8080/",
          "height": 35
        },
        "outputId": "d5fbc581-24da-491f-9d11-ff70873682bb"
      },
      "execution_count": 7,
      "outputs": [
        {
          "output_type": "execute_result",
          "data": {
            "application/vnd.google.colaboratory.intrinsic+json": {
              "type": "string"
            },
            "text/plain": [
              "'/content/drive/MyDrive/Neuronas y romanos/Colab Notebooks/Campamentos_img_1000x1000/metadata_global.json'"
            ]
          },
          "metadata": {},
          "execution_count": 7
        }
      ]
    }
  ]
}
